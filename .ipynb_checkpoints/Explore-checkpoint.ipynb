{
 "cells": [
  {
   "cell_type": "code",
   "execution_count": 1,
   "metadata": {
    "scrolled": true
   },
   "outputs": [],
   "source": [
    "from DataTables import *\n",
    "import pandas as pd\n",
    "import datetime"
   ]
  },
  {
   "cell_type": "code",
   "execution_count": 2,
   "metadata": {},
   "outputs": [
    {
     "name": "stdout",
     "output_type": "stream",
     "text": [
      "0    2013-04-04\n",
      "1    2012-12-31\n",
      "2    2013-06-05\n",
      "3    2013-03-20\n",
      "4    2013-02-25\n",
      "5    2013-03-15\n",
      "6    2012-11-05\n",
      "7    2013-02-18\n",
      "8    2012-12-11\n",
      "9    2012-11-26\n",
      "10   2013-02-26\n",
      "11   2013-02-11\n",
      "12   2013-05-28\n",
      "13   2013-04-03\n",
      "14   2013-04-06\n",
      "15   2012-12-26\n",
      "16   2012-12-19\n",
      "17   2013-01-09\n",
      "18   2013-03-19\n",
      "19   2013-05-18\n",
      "20   2013-05-01\n",
      "21   2013-01-14\n",
      "22   2013-02-07\n",
      "23   2013-06-09\n",
      "24   2013-02-13\n",
      "25   2013-04-02\n",
      "26   2013-04-11\n",
      "27   2013-04-14\n",
      "28   2013-06-22\n",
      "29   2013-05-23\n",
      "30   2012-12-27\n",
      "31   2012-11-08\n",
      "32   2013-03-04\n",
      "33   2013-02-28\n",
      "34   2013-03-12\n",
      "35   2013-04-18\n",
      "36   2013-03-28\n",
      "37   2013-05-11\n",
      "38   2013-05-04\n",
      "39   2012-12-21\n",
      "Name: date_time, dtype: datetime64[ns]\n"
     ]
    }
   ],
   "source": [
    "data = DataTables()\n",
    "date_time = pd.to_datetime(data.search['date_time'].dt.date)\n",
    "print(date_time)"
   ]
  },
  {
   "cell_type": "code",
   "execution_count": null,
   "metadata": {},
   "outputs": [],
   "source": []
  }
 ],
 "metadata": {
  "kernelspec": {
   "display_name": "Python 3",
   "language": "python",
   "name": "python3"
  },
  "language_info": {
   "codemirror_mode": {
    "name": "ipython",
    "version": 3
   },
   "file_extension": ".py",
   "mimetype": "text/x-python",
   "name": "python",
   "nbconvert_exporter": "python",
   "pygments_lexer": "ipython3",
   "version": "3.6.3"
  }
 },
 "nbformat": 4,
 "nbformat_minor": 2
}
