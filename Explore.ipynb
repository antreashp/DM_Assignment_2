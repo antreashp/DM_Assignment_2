{
 "cells": [
  {
   "cell_type": "code",
   "execution_count": 1,
   "metadata": {
    "scrolled": true
   },
   "outputs": [],
   "source": [
    "from DataTables import *\n",
    "import pandas as pd\n",
    "import datetime\n",
    "import matplotlib.pyplot as plt\n",
    "import matplotlib as mpl"
   ]
  },
  {
   "cell_type": "markdown",
   "metadata": {},
   "source": [
    "Don't run the cell below if you're not using dark theme!!!"
   ]
  },
  {
   "cell_type": "code",
   "execution_count": 2,
   "metadata": {},
   "outputs": [],
   "source": [
    "COLOR = 'white'\n",
    "mpl.rcParams['text.color'] = COLOR\n",
    "mpl.rcParams['axes.labelcolor'] = COLOR\n",
    "mpl.rcParams['xtick.color'] = COLOR\n",
    "mpl.rcParams['ytick.color'] = COLOR"
   ]
  },
  {
   "cell_type": "code",
   "execution_count": 8,
   "metadata": {},
   "outputs": [],
   "source": [
    "data = DataTables()\n",
    "search = data.search\n",
    "# date_time = search['date_time']\n",
    "# print(date_time)"
   ]
  },
  {
   "cell_type": "code",
   "execution_count": 9,
   "metadata": {},
   "outputs": [],
   "source": [
    "# import pickle\n",
    "# pickle.dump( data, open( 'orig_datatables.pkl', \"wb\" ) )\n",
    "\n",
    "\n",
    "data = pickle.load( open(  'orig_datatables.pkl', \"rb\" ) )"
   ]
  },
  {
   "cell_type": "code",
   "execution_count": 10,
   "metadata": {},
   "outputs": [
    {
     "ename": "SyntaxError",
     "evalue": "invalid syntax (<ipython-input-10-608a1d5c2103>, line 9)",
     "output_type": "error",
     "traceback": [
      "\u001b[1;36m  File \u001b[1;32m\"<ipython-input-10-608a1d5c2103>\"\u001b[1;36m, line \u001b[1;32m9\u001b[0m\n\u001b[1;33m    if month\u001b[0m\n\u001b[1;37m            ^\u001b[0m\n\u001b[1;31mSyntaxError\u001b[0m\u001b[1;31m:\u001b[0m invalid syntax\n"
     ]
    }
   ],
   "source": [
    "dates_to_filter = {\n",
    "    # month, year\n",
    "    'New_year': [1, 1],\n",
    "    'Christmas': [12, 25],\n",
    "}\n",
    "\n",
    "def filter_date(date):\n",
    "    month_day = datetime.datetime(date.year, date.month, date.day) - datetime.datetime(date.year, 1, 1)\n",
    "    if month\n",
    "    print(month_day)\n",
    "\n",
    "    return True\n",
    "\n",
    "# print([x[1] for x in dates_to_filter.values()])\n",
    "# filterd_dates = date_time[\n",
    "#     date_time.apply(lambda a: any(\n",
    "#         [\n",
    "#             (\n",
    "#                 x[0] == a.month \n",
    "#                 and \n",
    "#                 x[1] == a.day\n",
    "#             ) \n",
    "#             for x in dates_to_filter.values()\n",
    "#         ]\n",
    "#     ))\n",
    "# ]\n",
    "date_time.apply(lambda a: filter_date(a))\n",
    "# print(filterd_dates)"
   ]
  },
  {
   "cell_type": "code",
   "execution_count": 18,
   "metadata": {},
   "outputs": [
    {
     "data": {
      "text/plain": [
       "(array([  4.,  18.,  37.,   7.,  57.,  21.,   1.,   1.,   3., 263.]),\n",
       " array([  4.,  26.,  48.,  70.,  92., 114., 136., 158., 180., 202., 224.]),\n",
       " <a list of 10 Patch objects>)"
      ]
     },
     "execution_count": 18,
     "metadata": {},
     "output_type": "execute_result"
    },
    {
     "data": {
      "image/png": "[encoded data removed]",
      "text/plain": [
       "<Figure size 432x288 with 1 Axes>"
      ]
     },
     "metadata": {
      "needs_background": "dark"
     },
     "output_type": "display_data"
    }
   ],
   "source": [
    "search_country_from = search['visitor_location_country_id']\n",
    "plt.hist(search_country_from)"
   ]
  },
  {
   "cell_type": "code",
   "execution_count": 29,
   "metadata": {},
   "outputs": [
    {
     "name": "stdout",
     "output_type": "stream",
     "text": [
      "358\n",
      "[23246 12588 21106  7082 12610 26648  6285 18161  3735 24232  5143 20319\n",
      " 19144  2715 24361  6753  5740 15066 24752 10948  1995 13901  2799 23641\n",
      "  7434 21401  1074 23904 18040  8192 15146 22413  5483  1588   341 24700\n",
      " 26172 11235 17311  8660 16822  7274 13539 27275 15620  7687  2346 26262\n",
      " 13292 11966 13791 17759 12964 27620 18017 15764  3004 25427  7915 23605\n",
      " 21312 22097 27770 18584  3531 23105 16765 21087  1515 13502 21435 15748\n",
      " 15265  4182 27953  2518  4562 21207 20596  3694 16570  6767 13216  1562\n",
      " 20193 16863  5614 18321 12452  4851  9268 28323  5474  8347  7048 15471\n",
      " 22997 27231 17100 19521  6792  6659 11155 18774 13083  3069 27172  8254\n",
      " 24483 14019 15438 15784 22270 22215 19363 25459  1099 19965 19226 20757\n",
      " 20438  2463 20954 22417 26229 23055  8662 14933  6771 16828  6849 24556\n",
      "  1986 25423 21978 26392 14506 11146 18294  5837  8993 24277 10959 16027\n",
      " 10343  4485 27320  9402  2651 26361 10491 22247  6722  2142 21576 26661\n",
      "  1742 19968  7306  6296 23141 25091 25578  8841 18410   982  9899 15893\n",
      "  2620 17341 27347 25798 28357 27000 13570 13328  2508 27699 15708 17430\n",
      " 14612 13107 23435  6867 23475 10472 27043 10737  8823 14177  3821 21777\n",
      " 10749 25898  3715 25298 11842 12420 12345 13945  3836  2907 13443  5192\n",
      " 19194 11846  9574  6443 24674 12454 19078 19070 22567 10979 19724 20277\n",
      "  3410 12896  2794  7680  6948 26928 11299  6475  3477 28317 21182 21089\n",
      " 26837 27429 27134 26389 25121 24681 12907 20591 23666 26911  5258  4695\n",
      "  7382 26313 19977 20857 18191 12822   874 10999 19581 22835 19145 15711\n",
      " 12736 24367  1464 25964 21808 25614  6678 20874  7100 21908 11900   640\n",
      " 20721  4075 22501  9265  3806 21382 23840  8183  6874  8682 15403  2107\n",
      "  7203  4621 24159 16101 21473  9087 18822 12193 26067  3904  4687 21266\n",
      "  7220 21084 24620 16132  7714  2954 12582 17603 26037 16902 21992 12451\n",
      " 12373 25347  9186 10010 15654 23929 24948  3153 18366 20905 10407 24726\n",
      "   570   447   601  8812 17713 18535 20446 13324  9483 18495 11381 10160\n",
      " 23389 24229 17717 18367 17223  6354  1996  4486  2343  6704 14232  8857\n",
      " 14071 22916   873 11308   607 15307 10424 13893 25801 15733 18038 13319\n",
      "  6854  4772  7934 23961 19994 13483 18185  4589  4017  5103]\n",
      "[219 109 225  70 103  55  31 129 100  53 181 154  15  59 215  99 117  35\n",
      " 202  98 132 194 205   9  30 220  14  50 131  91 221  81 216 113  73   4\n",
      "  41 102  56 195 137  26 158 127 138  13  92  60 106  16 164]\n"
     ]
    },
    {
     "data": {
      "text/html": [
       "<div>\n",
       "<style scoped>\n",
       "    .dataframe tbody tr th:only-of-type {\n",
       "        vertical-align: middle;\n",
       "    }\n",
       "\n",
       "    .dataframe tbody tr th {\n",
       "        vertical-align: top;\n",
       "    }\n",
       "\n",
       "    .dataframe thead th {\n",
       "        text-align: right;\n",
       "    }\n",
       "</style>\n",
       "<table border=\"1\" class=\"dataframe\">\n",
       "  <thead>\n",
       "    <tr style=\"text-align: right;\">\n",
       "      <th></th>\n",
       "      <th>srch_destination_id</th>\n",
       "      <th>prop_country_id</th>\n",
       "    </tr>\n",
       "  </thead>\n",
       "  <tbody>\n",
       "    <tr>\n",
       "      <th>0</th>\n",
       "      <td>23246</td>\n",
       "      <td>219</td>\n",
       "    </tr>\n",
       "    <tr>\n",
       "      <th>1</th>\n",
       "      <td>23246</td>\n",
       "      <td>219</td>\n",
       "    </tr>\n",
       "    <tr>\n",
       "      <th>2</th>\n",
       "      <td>23246</td>\n",
       "      <td>219</td>\n",
       "    </tr>\n",
       "    <tr>\n",
       "      <th>3</th>\n",
       "      <td>23246</td>\n",
       "      <td>219</td>\n",
       "    </tr>\n",
       "    <tr>\n",
       "      <th>4</th>\n",
       "      <td>23246</td>\n",
       "      <td>219</td>\n",
       "    </tr>\n",
       "    <tr>\n",
       "      <th>...</th>\n",
       "      <td>...</td>\n",
       "      <td>...</td>\n",
       "    </tr>\n",
       "    <tr>\n",
       "      <th>9995</th>\n",
       "      <td>5103</td>\n",
       "      <td>219</td>\n",
       "    </tr>\n",
       "    <tr>\n",
       "      <th>9996</th>\n",
       "      <td>5103</td>\n",
       "      <td>219</td>\n",
       "    </tr>\n",
       "    <tr>\n",
       "      <th>9997</th>\n",
       "      <td>5103</td>\n",
       "      <td>219</td>\n",
       "    </tr>\n",
       "    <tr>\n",
       "      <th>9998</th>\n",
       "      <td>5103</td>\n",
       "      <td>219</td>\n",
       "    </tr>\n",
       "    <tr>\n",
       "      <th>9999</th>\n",
       "      <td>5103</td>\n",
       "      <td>219</td>\n",
       "    </tr>\n",
       "  </tbody>\n",
       "</table>\n",
       "<p>10000 rows × 2 columns</p>\n",
       "</div>"
      ],
      "text/plain": [
       "      srch_destination_id  prop_country_id\n",
       "0                   23246              219\n",
       "1                   23246              219\n",
       "2                   23246              219\n",
       "3                   23246              219\n",
       "4                   23246              219\n",
       "...                   ...              ...\n",
       "9995                 5103              219\n",
       "9996                 5103              219\n",
       "9997                 5103              219\n",
       "9998                 5103              219\n",
       "9999                 5103              219\n",
       "\n",
       "[10000 rows x 2 columns]"
      ]
     },
     "execution_count": 29,
     "metadata": {},
     "output_type": "execute_result"
    },
    {
     "data": {
      "image/png": "[encoded data removed]",
      "text/plain": [
       "<Figure size 432x288 with 1 Axes>"
      ]
     },
     "metadata": {
      "needs_background": "dark"
     },
     "output_type": "display_data"
    }
   ],
   "source": [
    "property = data.property\n",
    "x = 'srch_destination_id'\n",
    "print(len(search[x].unique()))\n",
    "plt.hist(search[x])\n",
    "print(search[x].unique())\n",
    "print(property['prop_country_id'].unique())\n",
    "\n",
    "\n",
    "# match = dict[prop_country_id].append(srch_destination_id)\n",
    "data.data[['srch_destination_id','prop_country_id']]\n",
    "rec = searcg+prop \n",
    "rec.append(0 if srch_dest_id != prop_country_id )\n",
    "\n",
    "\n",
    "def belongg(s_id,p_id):\n",
    "    bool = False\n",
    "    for match1,match2 in data.data[['srch_destination_id','prop_country_id']]:    \n",
    "        if s_id == match1 and p_id ==match2:\n",
    "            bool = True\n",
    "    return bool\n",
    "\n",
    "for record in records:\n",
    "    dest_id = 'srch_dest_id'\n",
    "    prop_id = 'srch_prop_id'\n",
    "    new_feature.append(belong(dest_id,prop_id))\n",
    "    "
   ]
  },
  {
   "cell_type": "code",
   "execution_count": null,
   "metadata": {},
   "outputs": [],
   "source": []
  }
 ],
 "metadata": {
  "kernelspec": {
   "display_name": "Python 3",
   "language": "python",
   "name": "python3"
  },
  "language_info": {
   "codemirror_mode": {
    "name": "ipython",
    "version": 3
   },
   "file_extension": ".py",
   "mimetype": "text/x-python",
   "name": "python",
   "nbconvert_exporter": "python",
   "pygments_lexer": "ipython3",
   "version": "3.6.9"
  }
 },
 "nbformat": 4,
 "nbformat_minor": 2
}
