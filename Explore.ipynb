{
 "cells": [
  {
   "cell_type": "code",
   "execution_count": 28,
   "metadata": {
    "scrolled": true
   },
   "outputs": [],
   "source": [
    "from DataTables import *\n",
    "import pandas as pd\n",
    "import datetime\n",
    "import matplotlib.pyplot as plt\n",
    "import matplotlib as mpl"
   ]
  },
  {
   "cell_type": "markdown",
   "metadata": {},
   "source": [
    "Don't run the cell below if you're not using dark theme!!!"
   ]
  },
  {
   "cell_type": "code",
   "execution_count": 29,
   "metadata": {},
   "outputs": [],
   "source": [
    "COLOR = 'white'\n",
    "mpl.rcParams['text.color'] = COLOR\n",
    "mpl.rcParams['axes.labelcolor'] = COLOR\n",
    "mpl.rcParams['xtick.color'] = COLOR\n",
    "mpl.rcParams['ytick.color'] = COLOR"
   ]
  },
  {
   "cell_type": "code",
   "execution_count": 8,
   "metadata": {},
   "outputs": [
    {
     "name": "stdout",
     "output_type": "stream",
     "text": [
      "0    2013-04-04 08:32:15\n",
      "1    2012-12-31 08:59:22\n",
      "2    2013-06-05 12:27:51\n",
      "3    2013-03-20 17:50:44\n",
      "4    2013-02-25 08:39:33\n",
      "5    2013-03-15 14:55:16\n",
      "6    2012-11-05 19:52:18\n",
      "7    2013-02-18 17:16:25\n",
      "8    2012-12-11 13:03:42\n",
      "9    2012-11-26 10:13:17\n",
      "10   2013-02-26 19:42:22\n",
      "11   2013-02-11 01:28:38\n",
      "12   2013-05-28 22:05:02\n",
      "13   2013-04-03 08:54:17\n",
      "14   2013-04-06 18:08:58\n",
      "15   2012-12-26 11:38:48\n",
      "16   2012-12-19 14:24:00\n",
      "17   2013-01-09 16:45:45\n",
      "18   2013-03-19 15:57:46\n",
      "19   2013-05-18 09:25:08\n",
      "20   2013-05-01 10:55:11\n",
      "21   2013-01-14 22:28:43\n",
      "22   2013-02-07 18:40:10\n",
      "23   2013-06-09 09:22:16\n",
      "24   2013-02-13 07:00:24\n",
      "25   2013-04-02 12:23:19\n",
      "26   2013-04-11 10:42:23\n",
      "27   2013-04-14 18:36:46\n",
      "28   2013-06-22 11:20:41\n",
      "29   2013-05-23 11:56:25\n",
      "30   2012-12-27 11:33:34\n",
      "31   2012-11-08 14:05:51\n",
      "32   2013-03-04 20:44:30\n",
      "33   2013-02-28 11:32:25\n",
      "34   2013-03-12 23:14:50\n",
      "35   2013-04-18 13:33:53\n",
      "36   2013-03-28 22:09:18\n",
      "37   2013-05-11 12:39:09\n",
      "38   2013-05-04 19:20:52\n",
      "39   2012-12-21 05:30:35\n",
      "Name: date_time, dtype: datetime64[ns]\n"
     ]
    }
   ],
   "source": [
    "data = DataTables()\n",
    "search = data.search\n",
    "date_time = search['date_time']\n",
    "print(date_time)"
   ]
  },
  {
   "cell_type": "code",
   "execution_count": 41,
   "metadata": {},
   "outputs": [
    {
     "name": "stdout",
     "output_type": "stream",
     "text": [
      "93 days, 0:00:00\n",
      "365 days, 0:00:00\n",
      "155 days, 0:00:00\n",
      "78 days, 0:00:00\n",
      "55 days, 0:00:00\n",
      "73 days, 0:00:00\n",
      "309 days, 0:00:00\n",
      "48 days, 0:00:00\n",
      "345 days, 0:00:00\n",
      "330 days, 0:00:00\n",
      "56 days, 0:00:00\n",
      "41 days, 0:00:00\n",
      "147 days, 0:00:00\n",
      "92 days, 0:00:00\n",
      "95 days, 0:00:00\n",
      "360 days, 0:00:00\n",
      "353 days, 0:00:00\n",
      "8 days, 0:00:00\n",
      "77 days, 0:00:00\n",
      "137 days, 0:00:00\n",
      "120 days, 0:00:00\n",
      "13 days, 0:00:00\n",
      "37 days, 0:00:00\n",
      "159 days, 0:00:00\n",
      "43 days, 0:00:00\n",
      "91 days, 0:00:00\n",
      "100 days, 0:00:00\n",
      "103 days, 0:00:00\n",
      "172 days, 0:00:00\n",
      "142 days, 0:00:00\n",
      "361 days, 0:00:00\n",
      "312 days, 0:00:00\n",
      "62 days, 0:00:00\n",
      "58 days, 0:00:00\n",
      "70 days, 0:00:00\n",
      "107 days, 0:00:00\n",
      "86 days, 0:00:00\n",
      "130 days, 0:00:00\n",
      "123 days, 0:00:00\n",
      "355 days, 0:00:00\n"
     ]
    },
    {
     "data": {
      "text/plain": [
       "0     True\n",
       "1     True\n",
       "2     True\n",
       "3     True\n",
       "4     True\n",
       "5     True\n",
       "6     True\n",
       "7     True\n",
       "8     True\n",
       "9     True\n",
       "10    True\n",
       "11    True\n",
       "12    True\n",
       "13    True\n",
       "14    True\n",
       "15    True\n",
       "16    True\n",
       "17    True\n",
       "18    True\n",
       "19    True\n",
       "20    True\n",
       "21    True\n",
       "22    True\n",
       "23    True\n",
       "24    True\n",
       "25    True\n",
       "26    True\n",
       "27    True\n",
       "28    True\n",
       "29    True\n",
       "30    True\n",
       "31    True\n",
       "32    True\n",
       "33    True\n",
       "34    True\n",
       "35    True\n",
       "36    True\n",
       "37    True\n",
       "38    True\n",
       "39    True\n",
       "Name: date_time, dtype: bool"
      ]
     },
     "execution_count": 41,
     "metadata": {},
     "output_type": "execute_result"
    }
   ],
   "source": [
    "dates_to_filter = {\n",
    "    # month, year\n",
    "    'New_year': [1, 1],\n",
    "    'Christmas': [12, 25],\n",
    "}\n",
    "\n",
    "def filter_date(date):\n",
    "    month_day = datetime.datetime(date.year, date.month, date.day) - datetime.datetime(date.year, 1, 1)\n",
    "    if month\n",
    "    print(month_day)\n",
    "\n",
    "    return True\n",
    "\n",
    "# print([x[1] for x in dates_to_filter.values()])\n",
    "# filterd_dates = date_time[\n",
    "#     date_time.apply(lambda a: any(\n",
    "#         [\n",
    "#             (\n",
    "#                 x[0] == a.month \n",
    "#                 and \n",
    "#                 x[1] == a.day\n",
    "#             ) \n",
    "#             for x in dates_to_filter.values()\n",
    "#         ]\n",
    "#     ))\n",
    "# ]\n",
    "date_time.apply(lambda a: filter_date(a))\n",
    "# print(filterd_dates)"
   ]
  },
  {
   "cell_type": "code",
   "execution_count": 30,
   "metadata": {},
   "outputs": [
    {
     "data": {
      "text/plain": [
       "(array([ 3.,  2.,  1.,  6.,  0.,  2.,  0.,  0.,  1., 25.]),\n",
       " array([ 31. ,  49.9,  68.8,  87.7, 106.6, 125.5, 144.4, 163.3, 182.2,\n",
       "        201.1, 220. ]),\n",
       " <a list of 10 Patch objects>)"
      ]
     },
     "execution_count": 30,
     "metadata": {},
     "output_type": "execute_result"
    },
    {
     "data": {
      "image/png": "[encoded data removed]",
      "text/plain": [
       "<Figure size 432x288 with 1 Axes>"
      ]
     },
     "metadata": {},
     "output_type": "display_data"
    }
   ],
   "source": [
    "search_country_from = search['visitor_location_country_id']\n",
    "plt.hist(search_country_from)"
   ]
  },
  {
   "cell_type": "code",
   "execution_count": 61,
   "metadata": {},
   "outputs": [
    {
     "name": "stderr",
     "output_type": "stream",
     "text": [
      "C:\\Users\\Peter Santos\\AppData\\Local\\Programs\\Python\\Python36\\lib\\site-packages\\numpy\\lib\\histograms.py:824: RuntimeWarning: invalid value encountered in greater_equal\n",
      "  keep = (tmp_a >= first_edge)\n",
      "C:\\Users\\Peter Santos\\AppData\\Local\\Programs\\Python\\Python36\\lib\\site-packages\\numpy\\lib\\histograms.py:825: RuntimeWarning: invalid value encountered in less_equal\n",
      "  keep &= (tmp_a <= last_edge)\n"
     ]
    },
    {
     "data": {
      "text/plain": [
       "array([   nan, 180.75, 270.08])"
      ]
     },
     "execution_count": 61,
     "metadata": {},
     "output_type": "execute_result"
    },
    {
     "data": {
      "image/png": "[encoded data removed]",
      "text/plain": [
       "<Figure size 432x288 with 1 Axes>"
      ]
     },
     "metadata": {},
     "output_type": "display_data"
    }
   ],
   "source": [
    "property = data.property\n",
    "x = 'visitor_hist_adr_usd'\n",
    "plt.hist(search[x])\n",
    "search[x].unique()"
   ]
  },
  {
   "cell_type": "code",
   "execution_count": null,
   "metadata": {},
   "outputs": [],
   "source": []
  }
 ],
 "metadata": {
  "kernelspec": {
   "display_name": "Python 3",
   "language": "python",
   "name": "python3"
  },
  "language_info": {
   "codemirror_mode": {
    "name": "ipython",
    "version": 3
   },
   "file_extension": ".py",
   "mimetype": "text/x-python",
   "name": "python",
   "nbconvert_exporter": "python",
   "pygments_lexer": "ipython3",
   "version": "3.6.3"
  }
 },
 "nbformat": 4,
 "nbformat_minor": 2
}
